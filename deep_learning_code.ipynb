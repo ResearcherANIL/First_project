{
 "cells": [
  {
   "cell_type": "markdown",
   "metadata": {},
   "source": [
    "Data prprocessing and loading"
   ]
  },
  {
   "cell_type": "code",
   "execution_count": 3,
   "metadata": {},
   "outputs": [
    {
     "name": "stdout",
     "output_type": "stream",
     "text": [
      "Training data shape: (2223, 224, 448, 3)\n",
      "Training labels shape: (2223,)\n",
      "Test data shape: (901, 224, 448, 3)\n",
      "Test labels shape: (901,)\n"
     ]
    }
   ],
   "source": [
    "import pandas as pd\n",
    "import cv2\n",
    "import numpy as np\n",
    "\n",
    "def load_images_and_labels(csv_file):\n",
    "    # Load CSV file containing image pair paths and labels\n",
    "    data = pd.read_csv(csv_file)\n",
    "\n",
    "    # Initialize lists to store images and labels\n",
    "    images = []\n",
    "    labels = []\n",
    "\n",
    "    # Iterate through each row in the CSV file\n",
    "    for index, row in data.iterrows():\n",
    "        # Read the pair of images\n",
    "        image1 = cv2.imread(f\"Dataset/Training_frame_pairs/{row['Pair']}/frame_1.jpg\")\n",
    "        image2 = cv2.imread(f\"Dataset/Training_frame_pairs/{row['Pair']}/frame_2.jpg\")\n",
    "        \n",
    "        # Check if images are successfully loaded\n",
    "        if image1 is not None and image2 is not None:\n",
    "            # Preprocess images (e.g., resize, normalize pixel values)\n",
    "            image1 = preprocess_image(image1)\n",
    "            image2 = preprocess_image(image2)\n",
    "            \n",
    "            # Combine the two images into one array (if needed)\n",
    "            combined_image = np.concatenate((image1, image2), axis=1)\n",
    "            \n",
    "            # Append the combined image to the list of images\n",
    "            images.append(combined_image)\n",
    "            \n",
    "            # Append the label to the list of labels\n",
    "            labels.append(row['Direction'])\n",
    "        else:\n",
    "            print(f\"Failed to load image pair: {row['Pair']}\")\n",
    "\n",
    "    return np.array(images), np.array(labels)\n",
    "\n",
    "def preprocess_image(image, target_size=(224, 224)):\n",
    "    # Resize image to target dimensions\n",
    "    image = cv2.resize(image, target_size)\n",
    "    \n",
    "    # Normalize pixel values (if needed)\n",
    "    image = image.astype(np.float32) / 255.0\n",
    "    \n",
    "    return image\n",
    "\n",
    "# Load and preprocess training data\n",
    "train_images, train_labels = load_images_and_labels('Dataset/Training_data_direction_labels.csv')\n",
    "\n",
    "# Load and preprocess test data\n",
    "test_images, test_labels = load_images_and_labels('Dataset/Test_data_direction_labels.csv')\n",
    "\n",
    "# Print the shapes of the loaded data\n",
    "print(\"Training data shape:\", train_images.shape)\n",
    "print(\"Training labels shape:\", train_labels.shape)\n",
    "print(\"Test data shape:\", test_images.shape)\n",
    "print(\"Test labels shape:\", test_labels.shape)\n"
   ]
  },
  {
   "cell_type": "markdown",
   "metadata": {},
   "source": [
    "Model architectur and training"
   ]
  },
  {
   "cell_type": "code",
   "execution_count": 5,
   "metadata": {},
   "outputs": [
    {
     "name": "stdout",
     "output_type": "stream",
     "text": [
      "Epoch 1/10\n",
      "\u001b[1m56/56\u001b[0m \u001b[32m━━━━━━━━━━━━━━━━━━━━\u001b[0m\u001b[37m\u001b[0m \u001b[1m675s\u001b[0m 11s/step - accuracy: 0.7236 - loss: 1.2172 - val_accuracy: 0.5124 - val_loss: 1.0673\n",
      "Epoch 2/10\n",
      "\u001b[1m56/56\u001b[0m \u001b[32m━━━━━━━━━━━━━━━━━━━━\u001b[0m\u001b[37m\u001b[0m \u001b[1m770s\u001b[0m 13s/step - accuracy: 0.9853 - loss: 0.0417 - val_accuracy: 0.5640 - val_loss: 1.2673\n",
      "Epoch 3/10\n",
      "\u001b[1m56/56\u001b[0m \u001b[32m━━━━━━━━━━━━━━━━━━━━\u001b[0m\u001b[37m\u001b[0m \u001b[1m550s\u001b[0m 9s/step - accuracy: 0.9867 - loss: 0.0439 - val_accuracy: 0.5663 - val_loss: 1.3500\n",
      "Epoch 4/10\n",
      "\u001b[1m56/56\u001b[0m \u001b[32m━━━━━━━━━━━━━━━━━━━━\u001b[0m\u001b[37m\u001b[0m \u001b[1m642s\u001b[0m 11s/step - accuracy: 0.9972 - loss: 0.0146 - val_accuracy: 0.4607 - val_loss: 2.2490\n",
      "Epoch 5/10\n",
      "\u001b[1m56/56\u001b[0m \u001b[32m━━━━━━━━━━━━━━━━━━━━\u001b[0m\u001b[37m\u001b[0m \u001b[1m358s\u001b[0m 6s/step - accuracy: 0.9899 - loss: 0.0466 - val_accuracy: 0.6090 - val_loss: 1.4027\n",
      "Epoch 6/10\n",
      "\u001b[1m56/56\u001b[0m \u001b[32m━━━━━━━━━━━━━━━━━━━━\u001b[0m\u001b[37m\u001b[0m \u001b[1m328s\u001b[0m 6s/step - accuracy: 0.9959 - loss: 0.0078 - val_accuracy: 0.4382 - val_loss: 3.0206\n",
      "Epoch 7/10\n",
      "\u001b[1m56/56\u001b[0m \u001b[32m━━━━━━━━━━━━━━━━━━━━\u001b[0m\u001b[37m\u001b[0m \u001b[1m182s\u001b[0m 3s/step - accuracy: 0.9967 - loss: 0.0073 - val_accuracy: 0.6337 - val_loss: 1.2215\n",
      "Epoch 8/10\n",
      "\u001b[1m56/56\u001b[0m \u001b[32m━━━━━━━━━━━━━━━━━━━━\u001b[0m\u001b[37m\u001b[0m \u001b[1m363s\u001b[0m 6s/step - accuracy: 0.9975 - loss: 0.0073 - val_accuracy: 0.4562 - val_loss: 3.3488\n",
      "Epoch 9/10\n",
      "\u001b[1m56/56\u001b[0m \u001b[32m━━━━━━━━━━━━━━━━━━━━\u001b[0m\u001b[37m\u001b[0m \u001b[1m753s\u001b[0m 13s/step - accuracy: 0.9968 - loss: 0.0147 - val_accuracy: 0.4472 - val_loss: 3.4375\n",
      "Epoch 10/10\n",
      "\u001b[1m56/56\u001b[0m \u001b[32m━━━━━━━━━━━━━━━━━━━━\u001b[0m\u001b[37m\u001b[0m \u001b[1m316s\u001b[0m 5s/step - accuracy: 0.9973 - loss: 0.0065 - val_accuracy: 0.5326 - val_loss: 1.6347\n",
      "\u001b[1m29/29\u001b[0m \u001b[32m━━━━━━━━━━━━━━━━━━━━\u001b[0m\u001b[37m\u001b[0m \u001b[1m79s\u001b[0m 1s/step - accuracy: 0.5620 - loss: 7.0090 \n",
      "Test Loss: 8.0484619140625\n",
      "Test Accuracy: 0.4605993330478668\n"
     ]
    }
   ],
   "source": [
    "from tensorflow.keras.models import Sequential\n",
    "from tensorflow.keras.layers import Conv2D, MaxPooling2D, Flatten, Dense\n",
    "\n",
    "# Define the model architecture\n",
    "model = Sequential([\n",
    "    Conv2D(32, (3, 3), activation='relu', input_shape=(224, 448, 3)),\n",
    "    MaxPooling2D((2, 2)),\n",
    "    Conv2D(64, (3, 3), activation='relu'),\n",
    "    MaxPooling2D((2, 2)),\n",
    "    Conv2D(128, (3, 3), activation='relu'),\n",
    "    MaxPooling2D((2, 2)),\n",
    "    Flatten(),\n",
    "    Dense(128, activation='relu'),\n",
    "    Dense(3, activation='softmax')  # Assuming 7 output classes\n",
    "])\n",
    "from sklearn.preprocessing import LabelEncoder\n",
    "\n",
    "# Initialize LabelEncoder\n",
    "label_encoder = LabelEncoder()\n",
    "\n",
    "# Convert string labels to integer labels\n",
    "train_labels_encoded = label_encoder.fit_transform(train_labels)\n",
    "test_labels_encoded = label_encoder.transform(test_labels)\n",
    "\n",
    "# Compile the model\n",
    "model.compile(optimizer='adam', loss='sparse_categorical_crossentropy', metrics=['accuracy'])\n",
    "\n",
    "# Train the model using encoded labels\n",
    "history = model.fit(train_images, train_labels_encoded, epochs=10, batch_size=32, validation_split=0.2)\n",
    "\n",
    "# Evaluate the model\n",
    "test_loss, test_accuracy = model.evaluate(test_images, test_labels_encoded)\n",
    "print(\"Test Loss:\", test_loss)\n",
    "print(\"Test Accuracy:\", test_accuracy)\n"
   ]
  }
 ],
 "metadata": {
  "kernelspec": {
   "display_name": "Python 3",
   "language": "python",
   "name": "python3"
  },
  "language_info": {
   "codemirror_mode": {
    "name": "ipython",
    "version": 3
   },
   "file_extension": ".py",
   "mimetype": "text/x-python",
   "name": "python",
   "nbconvert_exporter": "python",
   "pygments_lexer": "ipython3",
   "version": "3.10.6"
  }
 },
 "nbformat": 4,
 "nbformat_minor": 2
}
